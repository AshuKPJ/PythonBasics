{
 "cells": [
  {
   "cell_type": "markdown",
   "id": "46874a9d",
   "metadata": {},
   "source": [
    "## TOPIC: Python Basics Variable"
   ]
  },
  {
   "cell_type": "markdown",
   "id": "1818df96",
   "metadata": {},
   "source": [
    "#### 1. Declare two variables, `x` and `y`, and assign them integer values. Swap the values of these variables without using any temporary variable."
   ]
  },
  {
   "cell_type": "code",
   "execution_count": 1,
   "id": "94867950",
   "metadata": {},
   "outputs": [],
   "source": [
    "x = 10\n",
    "y = 20"
   ]
  },
  {
   "cell_type": "code",
   "execution_count": 2,
   "id": "9f44bb0e",
   "metadata": {},
   "outputs": [
    {
     "data": {
      "text/plain": [
       "10"
      ]
     },
     "execution_count": 2,
     "metadata": {},
     "output_type": "execute_result"
    }
   ],
   "source": [
    "x"
   ]
  },
  {
   "cell_type": "code",
   "execution_count": 3,
   "id": "15668636",
   "metadata": {},
   "outputs": [
    {
     "data": {
      "text/plain": [
       "20"
      ]
     },
     "execution_count": 3,
     "metadata": {},
     "output_type": "execute_result"
    }
   ],
   "source": [
    "y"
   ]
  },
  {
   "cell_type": "code",
   "execution_count": 4,
   "id": "a1034cb8",
   "metadata": {},
   "outputs": [],
   "source": [
    "x , y = y, x"
   ]
  },
  {
   "cell_type": "code",
   "execution_count": 5,
   "id": "044e0820",
   "metadata": {},
   "outputs": [
    {
     "data": {
      "text/plain": [
       "20"
      ]
     },
     "execution_count": 5,
     "metadata": {},
     "output_type": "execute_result"
    }
   ],
   "source": [
    "x"
   ]
  },
  {
   "cell_type": "code",
   "execution_count": 6,
   "id": "467ccd4f",
   "metadata": {},
   "outputs": [
    {
     "data": {
      "text/plain": [
       "10"
      ]
     },
     "execution_count": 6,
     "metadata": {},
     "output_type": "execute_result"
    }
   ],
   "source": [
    "y"
   ]
  },
  {
   "cell_type": "markdown",
   "id": "2592a99c",
   "metadata": {},
   "source": [
    "#### 2. Create a program that calculates the area of a rectangle. Take the length and width as inputs from the user and store them in variables. Calculate and display the area."
   ]
  },
  {
   "cell_type": "code",
   "execution_count": 7,
   "id": "64c90a6c",
   "metadata": {},
   "outputs": [
    {
     "name": "stdout",
     "output_type": "stream",
     "text": [
      "10\n"
     ]
    }
   ],
   "source": [
    "length = int(input())"
   ]
  },
  {
   "cell_type": "code",
   "execution_count": 8,
   "id": "46f8bc62",
   "metadata": {},
   "outputs": [
    {
     "name": "stdout",
     "output_type": "stream",
     "text": [
      "20\n"
     ]
    }
   ],
   "source": [
    "width = int(input())"
   ]
  },
  {
   "cell_type": "code",
   "execution_count": 9,
   "id": "93a8603a",
   "metadata": {},
   "outputs": [],
   "source": [
    "Area = width * length"
   ]
  },
  {
   "cell_type": "code",
   "execution_count": 10,
   "id": "c04ab58c",
   "metadata": {},
   "outputs": [
    {
     "name": "stdout",
     "output_type": "stream",
     "text": [
      "area of a rectangle: 200\n"
     ]
    }
   ],
   "source": [
    "print('area of a rectangle:',Area)"
   ]
  },
  {
   "cell_type": "markdown",
   "id": "ec5b7fce",
   "metadata": {},
   "source": [
    "#### 3. Write a Python program that converts temperatures from Celsius to Fahrenheit. Take the temperature in Celsius as input, store it in a variable, convert it to Fahrenheit, and display the result."
   ]
  },
  {
   "cell_type": "code",
   "execution_count": 11,
   "id": "7728e6e4",
   "metadata": {},
   "outputs": [
    {
     "name": "stdout",
     "output_type": "stream",
     "text": [
      "5\n"
     ]
    }
   ],
   "source": [
    "Celsius = int(input())"
   ]
  },
  {
   "cell_type": "code",
   "execution_count": 12,
   "id": "5b0d87ea",
   "metadata": {},
   "outputs": [],
   "source": [
    "Fahrenheit = ((Celsius - 32) * 5/9)"
   ]
  },
  {
   "cell_type": "code",
   "execution_count": 13,
   "id": "a6b889cd",
   "metadata": {},
   "outputs": [
    {
     "name": "stdout",
     "output_type": "stream",
     "text": [
      "Fahrenheit: -15.0 C\n"
     ]
    }
   ],
   "source": [
    "print(\"Fahrenheit:\",Fahrenheit,\"C\")"
   ]
  },
  {
   "cell_type": "markdown",
   "id": "b09ffd92",
   "metadata": {},
   "source": [
    "### TOPIC: String Based Question"
   ]
  },
  {
   "cell_type": "markdown",
   "id": "748314cd",
   "metadata": {},
   "source": [
    "#### 1. Write a Python program that takes a string as input and prints the length of the string."
   ]
  },
  {
   "cell_type": "code",
   "execution_count": 14,
   "id": "4fd16922",
   "metadata": {},
   "outputs": [
    {
     "name": "stdout",
     "output_type": "stream",
     "text": [
      "karande\n"
     ]
    }
   ],
   "source": [
    "Q1 = input()"
   ]
  },
  {
   "cell_type": "code",
   "execution_count": 15,
   "id": "8ebd41cd",
   "metadata": {},
   "outputs": [
    {
     "name": "stdout",
     "output_type": "stream",
     "text": [
      "Length of string: 7\n"
     ]
    }
   ],
   "source": [
    "print(\"Length of string:\",len(Q1))"
   ]
  },
  {
   "cell_type": "markdown",
   "id": "095aa42e",
   "metadata": {},
   "source": [
    "#### 2. Create a program that takes a sentence from the user and counts the number of vowels (a, e, i, o, u) in the string"
   ]
  },
  {
   "cell_type": "code",
   "execution_count": 16,
   "id": "77696b36",
   "metadata": {},
   "outputs": [
    {
     "name": "stdout",
     "output_type": "stream",
     "text": [
      "ashukarande\n"
     ]
    }
   ],
   "source": [
    "Q2 = input()"
   ]
  },
  {
   "cell_type": "code",
   "execution_count": 17,
   "id": "7365194d",
   "metadata": {},
   "outputs": [],
   "source": [
    "vowels = ['a', 'e', 'i', 'o', 'u']"
   ]
  },
  {
   "cell_type": "code",
   "execution_count": 18,
   "id": "948a9a57",
   "metadata": {},
   "outputs": [],
   "source": [
    "count = 0"
   ]
  },
  {
   "cell_type": "code",
   "execution_count": 19,
   "id": "dab9820d",
   "metadata": {},
   "outputs": [
    {
     "name": "stdout",
     "output_type": "stream",
     "text": [
      "number of vowels (a, e, i, o, u) in the string:: 5\n"
     ]
    }
   ],
   "source": [
    "for txt in Q2:\n",
    "    for vow in vowels:        \n",
    "        if(txt == vow):            \n",
    "            count = count + 1\n",
    "            break;\n",
    "            \n",
    "print(\"number of vowels (a, e, i, o, u) in the string::\",count)"
   ]
  },
  {
   "cell_type": "markdown",
   "id": "f4b19a62",
   "metadata": {},
   "source": [
    "#### 3. Given a string, reverse the order of characters using string slicing and print the reversed string."
   ]
  },
  {
   "cell_type": "code",
   "execution_count": 20,
   "id": "bb99dab1",
   "metadata": {},
   "outputs": [],
   "source": [
    "Q3 = 'ashu'"
   ]
  },
  {
   "cell_type": "code",
   "execution_count": 57,
   "id": "c9bbbbbd",
   "metadata": {},
   "outputs": [
    {
     "name": "stdout",
     "output_type": "stream",
     "text": [
      "Reverse String:: uhsa\n"
     ]
    }
   ],
   "source": [
    "print(\"Reverse String::\",Q3[::-1])"
   ]
  },
  {
   "cell_type": "markdown",
   "id": "78cca0c3",
   "metadata": {},
   "source": [
    "#### 4. Write a program that takes a string as input and checks if it is a palindrome (reads the same forwards and backwards)."
   ]
  },
  {
   "cell_type": "code",
   "execution_count": 66,
   "id": "076bf2d4",
   "metadata": {},
   "outputs": [
    {
     "name": "stdout",
     "output_type": "stream",
     "text": [
      "121\n"
     ]
    }
   ],
   "source": [
    "Q4 = input()"
   ]
  },
  {
   "cell_type": "code",
   "execution_count": 67,
   "id": "2d273e6d",
   "metadata": {},
   "outputs": [],
   "source": [
    "str1 = Q4[::-1]"
   ]
  },
  {
   "cell_type": "code",
   "execution_count": 68,
   "id": "b85c5fba",
   "metadata": {},
   "outputs": [],
   "source": [
    "str2 = Q4[::1]"
   ]
  },
  {
   "cell_type": "code",
   "execution_count": 69,
   "id": "d9a236cc",
   "metadata": {},
   "outputs": [
    {
     "name": "stdout",
     "output_type": "stream",
     "text": [
      "Given string is palindrome\n"
     ]
    }
   ],
   "source": [
    "if(str1 == str2):\n",
    "    print(\"Given string is palindrome\")\n",
    "else:\n",
    "    print(\"Given string is not palindrome\")"
   ]
  },
  {
   "cell_type": "markdown",
   "id": "12158886",
   "metadata": {},
   "source": [
    "#### 5. Create a program that takes a string as input and removes all the spaces from it. Print the modified string without spaces."
   ]
  },
  {
   "cell_type": "code",
   "execution_count": 71,
   "id": "248da418",
   "metadata": {},
   "outputs": [
    {
     "name": "stdout",
     "output_type": "stream",
     "text": [
      "df dsf rrete\n"
     ]
    }
   ],
   "source": [
    "Q5 = input()"
   ]
  },
  {
   "cell_type": "code",
   "execution_count": 74,
   "id": "08335e61",
   "metadata": {},
   "outputs": [
    {
     "name": "stdout",
     "output_type": "stream",
     "text": [
      "string after removed spaces:: dfdsfrrete\n"
     ]
    }
   ],
   "source": [
    "print(\"string after removed spaces::\",str.replace(Q5,' ',''))"
   ]
  },
  {
   "cell_type": "code",
   "execution_count": null,
   "id": "e2b37205",
   "metadata": {},
   "outputs": [],
   "source": []
  }
 ],
 "metadata": {
  "kernelspec": {
   "display_name": "Python 3 (ipykernel)",
   "language": "python",
   "name": "python3"
  },
  "language_info": {
   "codemirror_mode": {
    "name": "ipython",
    "version": 3
   },
   "file_extension": ".py",
   "mimetype": "text/x-python",
   "name": "python",
   "nbconvert_exporter": "python",
   "pygments_lexer": "ipython3",
   "version": "3.11.5"
  }
 },
 "nbformat": 4,
 "nbformat_minor": 5
}
